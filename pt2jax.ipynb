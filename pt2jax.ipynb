{
 "cells": [
  {
   "cell_type": "code",
   "execution_count": 1,
   "metadata": {},
   "outputs": [
    {
     "name": "stdout",
     "output_type": "stream",
     "text": [
      "Requirement already satisfied: dm-haiku in ./lib/python3.10/site-packages (0.0.12)\n",
      "Requirement already satisfied: einops in ./lib/python3.10/site-packages (0.7.0)\n",
      "Requirement already satisfied: absl-py>=0.7.1 in ./lib/python3.10/site-packages (from dm-haiku) (2.1.0)\n",
      "Requirement already satisfied: jmp>=0.0.2 in ./lib/python3.10/site-packages (from dm-haiku) (0.0.4)\n",
      "Requirement already satisfied: numpy>=1.18.0 in ./lib/python3.10/site-packages (from dm-haiku) (1.26.0)\n",
      "Requirement already satisfied: tabulate>=0.8.9 in ./lib/python3.10/site-packages (from dm-haiku) (0.9.0)\n",
      "Requirement already satisfied: flax>=0.7.1 in ./lib/python3.10/site-packages (from dm-haiku) (0.8.2)\n",
      "Requirement already satisfied: jax>=0.4.19 in ./lib/python3.10/site-packages (from flax>=0.7.1->dm-haiku) (0.4.26)\n",
      "Requirement already satisfied: msgpack in ./lib/python3.10/site-packages (from flax>=0.7.1->dm-haiku) (1.0.8)\n",
      "Requirement already satisfied: optax in ./lib/python3.10/site-packages (from flax>=0.7.1->dm-haiku) (0.2.2)\n",
      "Requirement already satisfied: orbax-checkpoint in ./lib/python3.10/site-packages (from flax>=0.7.1->dm-haiku) (0.5.9)\n",
      "Requirement already satisfied: tensorstore in ./lib/python3.10/site-packages (from flax>=0.7.1->dm-haiku) (0.1.56)\n",
      "Requirement already satisfied: rich>=11.1 in ./lib/python3.10/site-packages (from flax>=0.7.1->dm-haiku) (13.7.1)\n",
      "Requirement already satisfied: typing-extensions>=4.2 in ./lib/python3.10/site-packages (from flax>=0.7.1->dm-haiku) (4.8.0)\n",
      "Requirement already satisfied: PyYAML>=5.4.1 in ./lib/python3.10/site-packages (from flax>=0.7.1->dm-haiku) (6.0.1)\n",
      "Requirement already satisfied: ml-dtypes>=0.2.0 in ./lib/python3.10/site-packages (from jax>=0.4.19->flax>=0.7.1->dm-haiku) (0.4.0)\n",
      "Requirement already satisfied: opt-einsum in ./lib/python3.10/site-packages (from jax>=0.4.19->flax>=0.7.1->dm-haiku) (3.3.0)\n",
      "Requirement already satisfied: scipy>=1.9 in ./lib/python3.10/site-packages (from jax>=0.4.19->flax>=0.7.1->dm-haiku) (1.13.0)\n",
      "Requirement already satisfied: markdown-it-py>=2.2.0 in ./lib/python3.10/site-packages (from rich>=11.1->flax>=0.7.1->dm-haiku) (3.0.0)\n",
      "Requirement already satisfied: pygments<3.0.0,>=2.13.0 in ./lib/python3.10/site-packages (from rich>=11.1->flax>=0.7.1->dm-haiku) (2.16.1)\n",
      "Requirement already satisfied: chex>=0.1.86 in ./lib/python3.10/site-packages (from optax->flax>=0.7.1->dm-haiku) (0.1.86)\n",
      "Requirement already satisfied: jaxlib>=0.1.37 in ./lib/python3.10/site-packages (from optax->flax>=0.7.1->dm-haiku) (0.4.26)\n",
      "Requirement already satisfied: etils[epath,epy] in ./lib/python3.10/site-packages (from orbax-checkpoint->flax>=0.7.1->dm-haiku) (1.7.0)\n",
      "Requirement already satisfied: nest_asyncio in ./lib/python3.10/site-packages (from orbax-checkpoint->flax>=0.7.1->dm-haiku) (1.5.8)\n",
      "Requirement already satisfied: protobuf in ./lib/python3.10/site-packages (from orbax-checkpoint->flax>=0.7.1->dm-haiku) (5.26.1)\n",
      "Requirement already satisfied: toolz>=0.9.0 in ./lib/python3.10/site-packages (from chex>=0.1.86->optax->flax>=0.7.1->dm-haiku) (0.12.1)\n",
      "Requirement already satisfied: mdurl~=0.1 in ./lib/python3.10/site-packages (from markdown-it-py>=2.2.0->rich>=11.1->flax>=0.7.1->dm-haiku) (0.1.2)\n",
      "Requirement already satisfied: fsspec in ./lib/python3.10/site-packages (from etils[epath,epy]->orbax-checkpoint->flax>=0.7.1->dm-haiku) (2023.9.2)\n",
      "Requirement already satisfied: importlib_resources in ./lib/python3.10/site-packages (from etils[epath,epy]->orbax-checkpoint->flax>=0.7.1->dm-haiku) (6.4.0)\n",
      "Requirement already satisfied: zipp in ./lib/python3.10/site-packages (from etils[epath,epy]->orbax-checkpoint->flax>=0.7.1->dm-haiku) (3.18.1)\n",
      "Note: you may need to restart the kernel to use updated packages.\n"
     ]
    }
   ],
   "source": [
    "%pip install dm-haiku einops"
   ]
  },
  {
   "cell_type": "code",
   "execution_count": 2,
   "metadata": {},
   "outputs": [],
   "source": [
    "import jax, torch\n",
    "import jax.numpy as jnp\n",
    "import numpy as np\n",
    "import haiku as hk\n",
    "import torch.nn as nn\n",
    "import torch.nn.functional as F\n",
    "from dataclasses import dataclass\n",
    "from einops import rearrange, reduce, repeat, einsum\n",
    "from functools import partial"
   ]
  },
  {
   "cell_type": "code",
   "execution_count": 3,
   "metadata": {},
   "outputs": [],
   "source": [
    "ks = hk.PRNGSequence(0)\n",
    "nk = lambda : next(ks)"
   ]
  },
  {
   "cell_type": "code",
   "execution_count": 4,
   "metadata": {},
   "outputs": [],
   "source": [
    "precision = 8\n",
    "torch.set_printoptions(precision=precision)\n",
    "jnp.set_printoptions(precision=precision)\n",
    "np.set_printoptions(precision=precision)"
   ]
  },
  {
   "cell_type": "code",
   "execution_count": 5,
   "metadata": {},
   "outputs": [],
   "source": [
    "# haiku\n",
    "def forward(args, x):\n",
    "    wq = hk.Linear(args.dim, with_bias=False, name='wq')\n",
    "    wk = hk.Linear(args.dim, with_bias=False, name='wk')\n",
    "    wv = hk.Linear(args.dim, with_bias=False, name='wv')\n",
    "    wo = hk.Linear(args.dim, with_bias=False, name='wo') \n",
    "\n",
    "    q, k, v = map(lambda x: rearrange(x, 'l (nh dh) -> nh l dh', nh=args.n_head), (wq(x), wk(x), wv(x)))\n",
    "\n",
    "    scores = einsum(q, k, 'h i k, h j k -> h i j')\n",
    "\n",
    "    heads = scores @ v  # ignoring sfmx now\n",
    "\n",
    "    return wo(rearrange(heads, 'nh l dh -> l (nh dh)', nh=args.n_head))\n",
    "\n",
    "\n",
    "# torch\n",
    "class Attention(nn.Module):\n",
    "    def __init__(self, args):\n",
    "        super().__init__()\n",
    "        self.args = args\n",
    "        self.wq, self.wk, self.wv, self.wo = [nn.Linear(args.dim, args.dim, bias=False) for _ in range(4)]        \n",
    "\n",
    "    def forward(self, x):\n",
    "        q, k, v = map(lambda x: rearrange(x, 'l (nh dh) -> nh l dh', nh=args.n_head), (self.wq(x), self.wk(x), self.wv(x)))\n",
    "\n",
    "        scores = einsum(q, k, 'h i k, h j k -> h i j')\n",
    "\n",
    "        heads = scores @ v\n",
    "\n",
    "        return self.wo(rearrange(heads, 'nh l dh -> l (nh dh)', nh=args.n_head))"
   ]
  },
  {
   "cell_type": "code",
   "execution_count": 6,
   "metadata": {},
   "outputs": [],
   "source": [
    "@dataclass\n",
    "class Args:\n",
    "    dim: int\n",
    "    n_head: int\n",
    "\n",
    "\n",
    "args = Args(dim=4096, n_head=32)"
   ]
  },
  {
   "cell_type": "code",
   "execution_count": 7,
   "metadata": {},
   "outputs": [],
   "source": [
    "seq_len = 32\n",
    "x_ = torch.randn(seq_len, args.dim)\n",
    "x = jnp.asarray(x_)"
   ]
  },
  {
   "cell_type": "code",
   "execution_count": 8,
   "metadata": {},
   "outputs": [],
   "source": [
    "attention = hk.transform(partial(forward, args))\n",
    "\n",
    "params = attention.init(nk(), x)"
   ]
  },
  {
   "cell_type": "code",
   "execution_count": 9,
   "metadata": {},
   "outputs": [],
   "source": [
    "attention_ = Attention(args)"
   ]
  },
  {
   "cell_type": "code",
   "execution_count": 10,
   "metadata": {},
   "outputs": [],
   "source": [
    "params['wq']['w'] = jnp.asarray(attention_.wq.weight.data.T)\n",
    "params['wk']['w'] = jnp.asarray(attention_.wk.weight.data.T)\n",
    "params['wv']['w'] = jnp.asarray(attention_.wv.weight.data.T)\n",
    "params['wo']['w'] = jnp.asarray(attention_.wo.weight.data.T)"
   ]
  },
  {
   "cell_type": "code",
   "execution_count": 11,
   "metadata": {},
   "outputs": [],
   "source": [
    "jax_out = attention.apply(params, nk(), x)"
   ]
  },
  {
   "cell_type": "code",
   "execution_count": 12,
   "metadata": {},
   "outputs": [],
   "source": [
    "pt_out = attention_(x_).detach()"
   ]
  },
  {
   "cell_type": "code",
   "execution_count": 13,
   "metadata": {},
   "outputs": [
    {
     "name": "stdout",
     "output_type": "stream",
     "text": [
      "[[-10.911846     3.6535482   -6.280497   ...  -1.1029336   10.962386\n",
      "  -12.578524  ]\n",
      " [  4.3466306    6.333505    -1.2032125  ...  -2.8397715   -5.389377\n",
      "   -5.559636  ]\n",
      " [  2.4335847    6.424877     6.4055147  ...  -5.6227484    1.9965103\n",
      "    5.3998938 ]\n",
      " ...\n",
      " [ 12.701281     0.60315216  -1.8463742  ...   1.4613512   -2.1398673\n",
      "    6.179638  ]\n",
      " [  2.809864     7.107299     5.754225   ...   6.6284566    0.86284876\n",
      "    5.8206277 ]\n",
      " [ -0.18527448   8.471758    -5.831539   ... -14.321176     6.495843\n",
      "   -7.096695  ]]\n",
      "tensor([[-10.91184521,   3.65352607,  -6.28050089,  ...,  -1.10294020,\n",
      "          10.96237564, -12.57854557],\n",
      "        [  4.34663439,   6.33349705,  -1.20321608,  ...,  -2.83975768,\n",
      "          -5.38935900,  -5.55962181],\n",
      "        [  2.43358707,   6.42486191,   6.40550184,  ...,  -5.62276554,\n",
      "           1.99652243,   5.39990234],\n",
      "        ...,\n",
      "        [ 12.70126343,   0.60314202,  -1.84636748,  ...,   1.46134126,\n",
      "          -2.13987756,   6.17963219],\n",
      "        [  2.80984259,   7.10730457,   5.75419998,  ...,   6.62846613,\n",
      "           0.86284822,   5.82062769],\n",
      "        [ -0.18526585,   8.47178459,  -5.83152866,  ..., -14.32121181,\n",
      "           6.49584627,  -7.09669304]])\n"
     ]
    }
   ],
   "source": [
    "print(jax_out)\n",
    "print(pt_out)"
   ]
  },
  {
   "cell_type": "code",
   "execution_count": 14,
   "metadata": {},
   "outputs": [
    {
     "data": {
      "text/plain": [
       "Array(False, dtype=bool)"
      ]
     },
     "execution_count": 14,
     "metadata": {},
     "output_type": "execute_result"
    }
   ],
   "source": [
    "jnp.allclose(jax_out, jnp.asarray(pt_out), atol=1e-5)"
   ]
  },
  {
   "cell_type": "code",
   "execution_count": null,
   "metadata": {},
   "outputs": [],
   "source": []
  }
 ],
 "metadata": {
  "kernelspec": {
   "display_name": "Python 3",
   "language": "python",
   "name": "python3"
  },
  "language_info": {
   "codemirror_mode": {
    "name": "ipython",
    "version": 3
   },
   "file_extension": ".py",
   "mimetype": "text/x-python",
   "name": "python",
   "nbconvert_exporter": "python",
   "pygments_lexer": "ipython3",
   "version": "3.10.12"
  }
 },
 "nbformat": 4,
 "nbformat_minor": 2
}
